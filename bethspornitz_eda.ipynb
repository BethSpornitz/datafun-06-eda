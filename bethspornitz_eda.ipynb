{
 "cells": [
  {
   "cell_type": "markdown",
   "metadata": {},
   "source": [
    "# Project 6 Custom EDA\n",
    "Beth Spornitz\n",
    "September 23, 2024\n",
    "\n",
    "This code uses a combination of Python and Markdown to create an initial data story in a Jupyter Notebook. The project includes a project virtual environment with popular libraries for data analytics including pandas, matplotlib, and seaborn, and introduces a common process for starting exploratory data analysis projects.\n",
    "\n",
    "Specific to the titanic dataset, this file will walk through how to perform these functions:\n",
    "1.  Importing Requirements\n",
    "2.  Data Acquisition\n",
    "3.  Inital Data Inspection\n",
    "4.  Showing initial descriptive statistics\n",
    "5.  Showing initial data distribution for both categorical and numerical columns\n",
    "6.  Data Cleaning\n",
    "7.  Data Transformation\n",
    "\n",
    "These steps will be followed by visulations and explanations of visualizations."
   ]
  },
  {
   "cell_type": "markdown",
   "metadata": {},
   "source": [
    "### Import Dependencies"
   ]
  },
  {
   "cell_type": "code",
   "execution_count": null,
   "metadata": {},
   "outputs": [],
   "source": [
    "import matplotlib.pyplot as plt\n",
    "import pandas as pd\n",
    "import seaborn as sns\n",
    "import numpy as np"
   ]
  },
  {
   "cell_type": "markdown",
   "metadata": {},
   "source": [
    "### Import Local Modules"
   ]
  },
  {
   "cell_type": "code",
   "execution_count": null,
   "metadata": {},
   "outputs": [],
   "source": [
    "import utils_bethspornitz\n",
    "import bethspornitz_project_setup"
   ]
  },
  {
   "cell_type": "markdown",
   "metadata": {},
   "source": [
    "### Data Acquisition"
   ]
  },
  {
   "cell_type": "code",
   "execution_count": null,
   "metadata": {},
   "outputs": [],
   "source": [
    "# Load the Iris dataset into DataFrame\n",
    "df = sns.load_dataset('titanic')\n",
    "\n",
    "#Read the file\n",
    "pd.read_csv('titanic.csv')\n",
    "\n",
    "# Inspect first rows of the DataFrame\n",
    "print(df.head())"
   ]
  }
 ],
 "metadata": {
  "language_info": {
   "name": "python"
  }
 },
 "nbformat": 4,
 "nbformat_minor": 2
}
