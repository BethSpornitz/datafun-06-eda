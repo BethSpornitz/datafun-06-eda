{
 "cells": [
  {
   "cell_type": "markdown",
   "metadata": {},
   "source": [
    "# Project 6 Custom EDA\n",
    "Beth Spornitz\n",
    "September 23, 2024\n",
    "\n",
    "This code uses a combination of Python and Markdown to create an initial data story in a Jupyter Notebook. The project includes a project virtual environment with popular libraries for data analytics including pandas, matplotlib, and seaborn, and introduces a common process for starting exploratory data analysis projects.\n",
    "\n",
    "Specific to the titanic dataset, this file will walk through how to perform these functions:\n",
    "1.  Data Acquisition\n",
    "2.  Initial Data Inspection\n",
    "3.  Initial Descriptive Statistics\n",
    "4.  Initial Data Distribution for Numerical Columns\n",
    "5.  Initial Data Distribution for Categorical Columns\n",
    "6.  Initial Data Preparation (or Data Preprocessing)\n",
    "7.  Initial Visualizations\n",
    "8.  Initial Storytelling and Presentation\n",
    "\n",
    "These steps will be followed by visulations and explanations of visualizations."
   ]
  },
  {
   "cell_type": "markdown",
   "metadata": {},
   "source": [
    "### Import Dependencies"
   ]
  },
  {
   "cell_type": "code",
   "execution_count": 501,
   "metadata": {},
   "outputs": [],
   "source": [
    "import matplotlib.pyplot as plt\n",
    "import pandas as pd\n",
    "import seaborn as sns\n",
    "import numpy as np"
   ]
  },
  {
   "cell_type": "markdown",
   "metadata": {},
   "source": [
    "### Data Acquisition"
   ]
  },
  {
   "cell_type": "code",
   "execution_count": null,
   "metadata": {},
   "outputs": [],
   "source": [
    "# Load the Titanic dataset into DataFrame\n",
    "df = sns.load_dataset('titanic')\n",
    "\n",
    "# Inspect first rows of the DataFrame\n",
    "print(df.head())"
   ]
  },
  {
   "cell_type": "markdown",
   "metadata": {},
   "source": [
    "### Initial Data Inspection"
   ]
  },
  {
   "cell_type": "code",
   "execution_count": null,
   "metadata": {},
   "outputs": [],
   "source": [
    "print(df.head(10))\n",
    "print(df.shape)\n",
    "print(df.dtypes)"
   ]
  },
  {
   "cell_type": "markdown",
   "metadata": {},
   "source": [
    "### Initial Descriptive Statistics"
   ]
  },
  {
   "cell_type": "code",
   "execution_count": null,
   "metadata": {},
   "outputs": [],
   "source": [
    "print(df.describe())"
   ]
  },
  {
   "cell_type": "markdown",
   "metadata": {},
   "source": [
    "### Initial Data Distribution for Numerical Columns"
   ]
  },
  {
   "cell_type": "markdown",
   "metadata": {},
   "source": [
    "#### Pair Plot for Age, Fare, and Survived"
   ]
  },
  {
   "cell_type": "code",
   "execution_count": null,
   "metadata": {},
   "outputs": [],
   "source": [
    "sns.pairplot(df[['age', 'fare', 'survived']])\n",
    "plt.show()"
   ]
  },
  {
   "cell_type": "markdown",
   "metadata": {},
   "source": [
    "#### Density Plots\n",
    "This first density plot is based on age alone."
   ]
  },
  {
   "cell_type": "code",
   "execution_count": null,
   "metadata": {},
   "outputs": [],
   "source": [
    "sns.kdeplot(df['age'], fill=True)\n",
    "plt.title('Age Density on the Titanic')\n",
    "plt.xlabel('age')\n",
    "plt.ylabel('Density')\n",
    "plt.show()"
   ]
  },
  {
   "cell_type": "markdown",
   "metadata": {},
   "source": [
    "##### Observations\n",
    "The age density plot is showing that most passengers were between the ages of 20 and 40."
   ]
  },
  {
   "cell_type": "markdown",
   "metadata": {},
   "source": [
    "This density plot combined age with passenger class."
   ]
  },
  {
   "cell_type": "code",
   "execution_count": null,
   "metadata": {},
   "outputs": [],
   "source": [
    "# Create a density plot for Age by Passenger Class\n",
    "plt.figure(figsize=(10, 6))\n",
    "sns.kdeplot(data=df, x='age', hue='pclass', fill=True, common_norm=False, alpha=0.5, palette='crest')\n",
    "\n",
    "# Customize the plot\n",
    "plt.title('Density Plot of Age by Passenger Class')\n",
    "plt.xlabel('Age')\n",
    "plt.ylabel('Density')\n",
    "plt.xlim(0, df['age'].max())  # Limit x-axis to the max age in the dataset\n",
    "\n",
    "plt.show()"
   ]
  },
  {
   "cell_type": "markdown",
   "metadata": {},
   "source": [
    "The age and class density plot is showing:  \n",
    "-There were more 3rd class passengers than 1st or 2nd class, and there were more 2nd class passengers than there were 1st class passenger.  \n",
    "-The 3rd class passengers were generally younger than those in 2nd class and 1st clss.  \n"
   ]
  },
  {
   "cell_type": "markdown",
   "metadata": {},
   "source": [
    "#### Initial Data Distribution for Categorical Columns"
   ]
  },
  {
   "cell_type": "code",
   "execution_count": null,
   "metadata": {},
   "outputs": [],
   "source": [
    "# Inspect value counts for all categorical columns\n",
    "for col in df.select_dtypes(include=['object', 'category']).columns:\n",
    "    print(f'Value counts for column: {col}')\n",
    "    print(df[col].value_counts())\n",
    "    print()\n",
    "    # Display count plot\n",
    "    sns.countplot(x=col, data=df)\n",
    "    plt.title(f'Distribution of {col}')\n",
    "    plt.show()\n",
    "\n",
    "# Show all plots\n",
    "plt.show()"
   ]
  },
  {
   "cell_type": "markdown",
   "metadata": {},
   "source": [
    "##### Observations"
   ]
  },
  {
   "cell_type": "markdown",
   "metadata": {},
   "source": [
    "#### Initial Data Transformation and Feature Engineering"
   ]
  },
  {
   "cell_type": "code",
   "execution_count": null,
   "metadata": {},
   "outputs": [],
   "source": [
    "# Define a dictionary mapping old column names to new names\n",
    "new_column_names = {\n",
    "    'pclass': 'Passenger Class',\n",
    "    'sex': 'Sex',\n",
    "    'age': 'Age',\n",
    "    'sibsp': 'Siblings/Spouses Aboard',\n",
    "    'parch': 'Parents/Children Aboard',\n",
    "    'fare': 'Fare Amount',\n",
    "    'survived': 'Survival Status'\n",
    "}\n",
    "\n",
    "# Rename the columns in the DataFrame using the dictionary\n",
    "df.rename(columns=new_column_names, inplace=True)\n",
    "\n",
    "# Display the updated DataFrame column names to verify the changes\n",
    "print(df.columns)\n",
    "\n",
    "# Adding new columns for family size and total fare\n",
    "df['Family Size'] = df['Siblings/Spouses Aboard'] + df['Parents/Children Aboard'] + 1  # Include the passenger\n",
    "df['Fare Per Person'] = df['Fare Amount'] / df['Family Size']\n",
    "\n",
    "# Display the first few rows of the updated DataFrame to verify the changes\n",
    "print(df.head())"
   ]
  },
  {
   "cell_type": "markdown",
   "metadata": {},
   "source": [
    "#### Initial Data Visualization"
   ]
  },
  {
   "cell_type": "code",
   "execution_count": null,
   "metadata": {},
   "outputs": [],
   "source": [
    "# Set up the scatter plot\n",
    "plt.figure(figsize=(10, 6))\n",
    "sns.scatterplot(data=df, x='Age', y='Fare Amount', hue='Survival Status', style='Sex', palette='deep', alpha=0.7)\n",
    "\n",
    "# Customize the plot\n",
    "plt.title('Scatter Plot of Age vs. Fare and Survival on the Titanic')\n",
    "plt.xlabel('Age')\n",
    "plt.ylabel('Fare Amount')\n",
    "plt.legend(title='Survival Status')\n",
    "plt.grid()\n",
    "\n",
    "# Show the plot\n",
    "plt.show()"
   ]
  },
  {
   "cell_type": "markdown",
   "metadata": {},
   "source": [
    "#### Pair Plot"
   ]
  },
  {
   "cell_type": "code",
   "execution_count": null,
   "metadata": {},
   "outputs": [],
   "source": [
    "# Drop rows with missing values in relevant numeric columns\n",
    "df = df.dropna(subset=['Age', 'Fare Amount', 'Passenger Class', 'Siblings/Spouses Aboard', 'Parents/Children Aboard'])\n",
    "\n",
    "# Create a pair plot\n",
    "sns.pairplot(df, hue='Survival Status', vars=['Age', 'Fare Amount', 'Passenger Class', 'Siblings/Spouses Aboard', 'Parents/Children Aboard'], palette='deep')\n",
    "\n",
    "# Customize the plot\n",
    "plt.suptitle('Pair Plot of Titanic Dataset', y=1.02)  # Adjust title position\n",
    "plt.show()"
   ]
  },
  {
   "cell_type": "markdown",
   "metadata": {},
   "source": [
    "##### Observations"
   ]
  },
  {
   "cell_type": "markdown",
   "metadata": {},
   "source": []
  },
  {
   "cell_type": "markdown",
   "metadata": {},
   "source": [
    "#### Correlation Heatmap"
   ]
  },
  {
   "cell_type": "code",
   "execution_count": null,
   "metadata": {},
   "outputs": [],
   "source": [
    "# Select only numeric columns relevant for correlation analysis\n",
    "numeric_cols = df[['Survival Status', 'Passenger Class', 'Age', 'Fare Amount']]\n",
    "\n",
    "# Calculate the correlation matrix\n",
    "correlation = numeric_cols.corr()\n",
    "\n",
    "# Create a heatmap to visualize the correlation matrix\n",
    "plt.figure(figsize=(8, 6))\n",
    "sns.heatmap(correlation, annot=True, cmap='coolwarm', fmt='.2f', square=True)\n",
    "plt.title('Correlation Matrix Heatmap for Titanic Dataset')\n",
    "plt.show()"
   ]
  },
  {
   "cell_type": "markdown",
   "metadata": {},
   "source": [
    "##### Observations"
   ]
  },
  {
   "cell_type": "code",
   "execution_count": null,
   "metadata": {},
   "outputs": [],
   "source": []
  },
  {
   "cell_type": "markdown",
   "metadata": {},
   "source": [
    "### Bar Plot"
   ]
  },
  {
   "cell_type": "code",
   "execution_count": null,
   "metadata": {},
   "outputs": [],
   "source": [
    "# Calculate survival rates by class and sex\n",
    "survival_counts = df.groupby(['Passenger Class', 'Sex', 'Survival Status']).size().unstack(fill_value=0)\n",
    "print(survival_counts)\n",
    "\n",
    "# Calculate the total count of passengers in each group\n",
    "total_counts = survival_counts.sum(axis=1)\n",
    "\n",
    "# Calculate survival proportions\n",
    "survival_proportions = survival_counts.div(total_counts, axis=0)\n",
    "print(survival_proportions)\n",
    "\n",
    "# Create a stacked bar plot\n",
    "ax = survival_proportions.plot(kind='bar', stacked=True, color=['red', 'green'], figsize=(10, 6))\n",
    "\n",
    "# Customize the plot\n",
    "plt.title('Survival Rate by Passenger Class and Sex')\n",
    "plt.xlabel('Passenger Class')\n",
    "plt.ylabel('Proportion of Passengers')\n",
    "plt.xticks(rotation=0)\n",
    "\n",
    "# Set the legend with proper labels\n",
    "plt.legend(title='Survived', labels=['No', 'Yes'], loc='upper right')\n",
    "\n",
    "plt.show()"
   ]
  },
  {
   "cell_type": "markdown",
   "metadata": {},
   "source": [
    "##### Observations"
   ]
  },
  {
   "cell_type": "markdown",
   "metadata": {},
   "source": [
    "##### Bar Plot for Survival Counts by Passenger Class"
   ]
  },
  {
   "cell_type": "code",
   "execution_count": null,
   "metadata": {},
   "outputs": [],
   "source": [
    "# Create a contingency table\n",
    "contingency_titanic = df.groupby(['Passenger Class', 'Survival Status']).size().unstack()\n",
    "\n",
    "# Rename the index to use \"Survived\" and \"Dead\"\n",
    "contingency_titanic.index = ['1st Class', '2nd Class', '3rd Class']  # Rename classes\n",
    "contingency_titanic.columns = ['Dead', 'Survived']  # Rename 0 and 1\n",
    "\n",
    "# Create a stacked bar plot\n",
    "titanic_barplot = contingency_titanic.plot.bar(stacked=True, \n",
    "                                               color=[\"lightblue\", \"lightpink\"])\n",
    "\n",
    "plt.ylabel(\"Counts\")\n",
    "plt.xlabel('Passenger Class')\n",
    "plt.xticks(rotation=0)\n",
    "plt.title('Survival Counts by Passenger Class')\n",
    "plt.show()"
   ]
  },
  {
   "cell_type": "markdown",
   "metadata": {},
   "source": [
    "#### Male vs. Female Survivors"
   ]
  },
  {
   "cell_type": "code",
   "execution_count": null,
   "metadata": {},
   "outputs": [],
   "source": [
    "# Filter for survivors\n",
    "survivors = df[df['survived'] == 1]\n",
    "\n",
    "# Calculate the counts of males and females among survivors\n",
    "gender_counts = survivors['sex'].value_counts()\n",
    "\n",
    "# Convert the Series to a DataFrame for easier plotting\n",
    "gender_percentages = (gender_counts / gender_counts.sum() * 100).reset_index()\n",
    "gender_percentages.columns = ['Gender', 'Percentage']\n",
    "\n",
    "# Create a bar plot\n",
    "plt.figure(figsize=(8, 6))\n",
    "sns.barplot(x='Gender', hue='Gender', y='Percentage', data=gender_percentages, palette='pastel')\n",
    "\n",
    "# Customize the plot\n",
    "plt.title('Percentage of Survivors by Gender')\n",
    "plt.xlabel('Gender')\n",
    "plt.ylabel('Percentage (%)')\n",
    "\n",
    "# Add percentage labels on top of the bars\n",
    "for index, value in enumerate(gender_percentages['Percentage']):\n",
    "    plt.text(index, value + 1, f'{value:.1f}%', ha='center')\n",
    "\n",
    "plt.ylim(0, 100)  # Set y-axis limit to 100%\n",
    "plt.show()"
   ]
  },
  {
   "cell_type": "markdown",
   "metadata": {},
   "source": [
    "#### Count Plot"
   ]
  },
  {
   "cell_type": "code",
   "execution_count": null,
   "metadata": {},
   "outputs": [],
   "source": [
    "# Create a count plot\n",
    "plt.figure(figsize=(10, 6))\n",
    "ax = sns.countplot(x='class', hue='Survival Status', data=df, palette='pastel')\n",
    "\n",
    "# Customize the plot\n",
    "plt.title('Count of Passengers by Class and Survival Status')\n",
    "plt.xlabel('Passenger Class')\n",
    "plt.ylabel('Count')\n",
    "\n",
    "# Rename legend labels\n",
    "handles, labels = ax.get_legend_handles_labels()\n",
    "ax.legend(handles, ['Dead', 'Alive'], title='Survival Status')\n",
    "\n",
    "plt.show()"
   ]
  },
  {
   "cell_type": "markdown",
   "metadata": {},
   "source": [
    "##### Observation"
   ]
  },
  {
   "cell_type": "markdown",
   "metadata": {},
   "source": [
    "#### Box Plot of Fare by Class and Survival\n",
    "A box plot can help show the distribution of fares paid by passengers in different classes, highlighting survival status\n",
    "\n",
    "0: Represents Did Not Survive (Dead)\n",
    "1: Represents Survived (Alive)"
   ]
  },
  {
   "cell_type": "markdown",
   "metadata": {},
   "source": [
    "'pclass': 'Passenger Class',\n",
    "    'sex': 'Gender',\n",
    "    'age': 'Age',\n",
    "    'sibsp': 'Siblings/Spouses Aboard',\n",
    "    'parch': 'Parents/Children Aboard',\n",
    "    'fare': 'Fare Amount',\n",
    "    'survived': 'Survival Status'"
   ]
  },
  {
   "cell_type": "code",
   "execution_count": null,
   "metadata": {},
   "outputs": [],
   "source": [
    "plt.figure(figsize=(10, 6))\n",
    "sns.boxplot(x='class', y='Fare Amount', hue='Survival Status', data=df, palette='pastel')\n",
    "plt.title('Box Plot of Fare by Passenger Class and Survival')\n",
    "plt.xlabel('Passenger Class')\n",
    "plt.ylabel('Fare')\n",
    "plt.legend(title='Survived')\n",
    "plt.show()"
   ]
  },
  {
   "cell_type": "markdown",
   "metadata": {},
   "source": [
    "#### Violin Plot of Age by Class and Survival"
   ]
  },
  {
   "cell_type": "code",
   "execution_count": null,
   "metadata": {},
   "outputs": [],
   "source": [
    "plt.figure(figsize=(10, 6))\n",
    "sns.violinplot(x='class', y='Age', hue='Survival Status', data=df, split=True, palette='pastel')\n",
    "plt.title('Violin Plot of Age by Passenger Class and Survival')\n",
    "plt.xlabel('Passenger Class')\n",
    "plt.ylabel('Age')\n",
    "plt.legend(title='Survived')\n",
    "plt.show()"
   ]
  },
  {
   "cell_type": "markdown",
   "metadata": {},
   "source": [
    "#### FacetGrid of Survival by Age and Class\n",
    "Key Features of the FacetGrid\n",
    "Separate Plots for Each Class:\n",
    "\n",
    "Each column in the grid represents a different passenger class (1st, 2nd, and 3rd class).\n",
    "This allows for easy comparison between classes.\n",
    "Age Distribution:\n",
    "\n",
    "Each plot shows the age distribution of passengers using a histogram or kernel density estimate (KDE).\n",
    "This helps to visualize how ages are distributed within each class.\n",
    "Survival Status:\n",
    "\n",
    "The data is differentiated by survival status (e.g., Survived vs. Did Not Survive).\n",
    "Typically, different colors are used to represent the two groups, making it easy to see how many survived and how many did not.\n",
    "Insights You Can Derive\n",
    "Age Trends:\n",
    "\n",
    "You can observe whether certain age groups had higher survival rates in specific classes.\n",
    "For example, you might find that younger passengers had higher survival rates in 1st class compared to older passengers in 3rd class.\n",
    "Class Differences:\n",
    "\n",
    "The grid allows you to see how survival chances varied not only by age but also by the class of travel.\n",
    "This can highlight socioeconomic factors influencing survival (e.g., wealthier passengers in higher classes had better survival rates).\n",
    "Survival Patterns:\n",
    "\n",
    "By examining the distribution shapes (e.g., peaks, spread), you can identify potential patterns or anomalies in survival based on age and class.\n"
   ]
  },
  {
   "cell_type": "code",
   "execution_count": null,
   "metadata": {},
   "outputs": [],
   "source": [
    "g = sns.FacetGrid(df, col='class', hue='Survival Status', height=4, aspect=1)\n",
    "g.map(sns.histplot, 'Age', bins=30, kde=True)\n",
    "g.add_legend()\n",
    "plt.subplots_adjust(top=0.85)\n",
    "g.fig.suptitle('Age Distribution by Passenger Class and Survival')\n",
    "plt.show()"
   ]
  },
  {
   "cell_type": "markdown",
   "metadata": {},
   "source": [
    "#### Analyze Survival of Mothers vs. Women Without Children"
   ]
  },
  {
   "cell_type": "code",
   "execution_count": null,
   "metadata": {},
   "outputs": [],
   "source": [
    "# Load the Titanic dataset\n",
    "df = sns.load_dataset('titanic')\n",
    "\n",
    "# Convert categorical variables to numeric\n",
    "df['sex'] = df['sex'].map({'male': 1, 'female': 0})\n",
    "\n",
    "# Check the data types after conversion\n",
    "print(df.dtypes)\n",
    "\n",
    "# Drop any non-numeric columns before calculating the correlation\n",
    "numeric_cols = df.select_dtypes(include=['float64', 'int64']).columns\n",
    "\n",
    "# Calculate the correlation matrix using only numeric columns\n",
    "correlation_matrix = df[numeric_cols].corr()\n",
    "\n",
    "# Plot the heatmap\n",
    "plt.figure(figsize=(10, 10))\n",
    "sns.heatmap(correlation_matrix[['survived']], cmap=\"RdBu_r\", center=0.0, annot=True)\n",
    "plt.title('Correlation Heatmap with Survival Status')\n",
    "plt.show()"
   ]
  },
  {
   "cell_type": "code",
   "execution_count": null,
   "metadata": {},
   "outputs": [],
   "source": [
    "# Create a new column to identify mothers\n",
    "df['is_mother'] = (df['sex'] == 'female') & (df['Parents/Children Aboard'] > 0)\n",
    "\n",
    "# Create a new column to identify women without children\n",
    "df['is_woman_without_children'] = (df['sex'] == 'female') & (df['Parents/Children Aboard'] == 0)\n",
    "\n",
    "# Check counts of each group\n",
    "num_mothers = df['is_mother'].sum()\n",
    "num_women_without_children = df['is_woman_without_children'].sum()\n",
    "print(f\"Number of Mothers: {num_mothers}, Number of Women Without Children: {num_women_without_children}\")\n",
    "\n",
    "# Calculate survival rates\n",
    "mothers_survival_rate = df[df['is_mother']]['Survival Status'].mean()\n",
    "women_without_children_survival_rate = df[df['is_woman_without_children']]['Survival Status'].mean()\n",
    "\n",
    "# Print survival rates\n",
    "print(f\"Survival Rate for Mothers: {mothers_survival_rate}\")\n",
    "print(f\"Survival Rate for Women Without Children: {women_without_children_survival_rate}\")\n",
    "\n",
    "# Create a DataFrame for the survival statistics\n",
    "survival_stats = pd.DataFrame({\n",
    "    'Group': ['Mothers', 'Women without Children'],\n",
    "    'Survival Rate': [mothers_survival_rate, women_without_children_survival_rate]\n",
    "})\n",
    "\n",
    "# Create a bar plot if we have valid data\n",
    "if survival_stats['Survival Rate'].notnull().any():\n",
    "    plt.figure(figsize=(8, 6))\n",
    "    sns.barplot(x='Group', y='Survival Rate', data=survival_stats, palette='pastel')\n",
    "\n",
    "    # Customize the plot\n",
    "    plt.title('Survival Rate: Mothers vs. Women Without Children')\n",
    "    plt.xlabel('Group')\n",
    "    plt.ylabel('Survival Rate')\n",
    "\n",
    "    # Add percentage labels on top of the bars\n",
    "    for index, value in enumerate(survival_stats['Survival Rate']):\n",
    "        plt.text(index, value + 0.02, f'{value:.1%}', ha='center')\n",
    "\n",
    "    plt.ylim(0, 1)  # Set y-axis limit to 1\n",
    "    plt.show()\n",
    "else:\n",
    "    print(\"No valid survival rates to plot.\")"
   ]
  }
 ],
 "metadata": {
  "kernelspec": {
   "display_name": ".venv",
   "language": "python",
   "name": "python3"
  },
  "language_info": {
   "codemirror_mode": {
    "name": "ipython",
    "version": 3
   },
   "file_extension": ".py",
   "mimetype": "text/x-python",
   "name": "python",
   "nbconvert_exporter": "python",
   "pygments_lexer": "ipython3",
   "version": "3.12.5"
  }
 },
 "nbformat": 4,
 "nbformat_minor": 2
}
